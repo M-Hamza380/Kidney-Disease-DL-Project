{
 "cells": [
  {
   "cell_type": "markdown",
   "metadata": {},
   "source": [
    "## Download dataset from kaggle"
   ]
  },
  {
   "cell_type": "code",
   "execution_count": 1,
   "metadata": {},
   "outputs": [
    {
     "name": "stdout",
     "output_type": "stream",
     "text": [
      "Collecting opendatasets\n",
      "  Downloading opendatasets-0.1.22-py3-none-any.whl (15 kB)\n",
      "Requirement already satisfied: tqdm in f:\\git_projects\\kidney-disease-dl-project\\env\\lib\\site-packages (from opendatasets) (4.66.1)\n",
      "Collecting kaggle (from opendatasets)\n",
      "  Downloading kaggle-1.6.4.tar.gz (84 kB)\n",
      "     ---------------------------------------- 0.0/84.6 kB ? eta -:--:--\n",
      "     ---- ----------------------------------- 10.2/84.6 kB ? eta -:--:--\n",
      "     --------------------------- ---------- 61.4/84.6 kB 648.1 kB/s eta 0:00:01\n",
      "     -------------------------------------- 84.6/84.6 kB 594.8 kB/s eta 0:00:00\n",
      "  Preparing metadata (setup.py): started\n",
      "  Preparing metadata (setup.py): finished with status 'done'\n",
      "Requirement already satisfied: click in f:\\git_projects\\kidney-disease-dl-project\\env\\lib\\site-packages (from opendatasets) (8.1.7)\n",
      "Requirement already satisfied: colorama in f:\\git_projects\\kidney-disease-dl-project\\env\\lib\\site-packages (from click->opendatasets) (0.4.6)\n",
      "Requirement already satisfied: six>=1.10 in f:\\git_projects\\kidney-disease-dl-project\\env\\lib\\site-packages (from kaggle->opendatasets) (1.16.0)\n",
      "Requirement already satisfied: certifi in f:\\git_projects\\kidney-disease-dl-project\\env\\lib\\site-packages (from kaggle->opendatasets) (2024.2.2)\n",
      "Requirement already satisfied: python-dateutil in f:\\git_projects\\kidney-disease-dl-project\\env\\lib\\site-packages (from kaggle->opendatasets) (2.8.2)\n",
      "Requirement already satisfied: requests in f:\\git_projects\\kidney-disease-dl-project\\env\\lib\\site-packages (from kaggle->opendatasets) (2.31.0)\n",
      "Collecting python-slugify (from kaggle->opendatasets)\n",
      "  Downloading python_slugify-8.0.3-py2.py3-none-any.whl.metadata (8.5 kB)\n",
      "Requirement already satisfied: urllib3 in f:\\git_projects\\kidney-disease-dl-project\\env\\lib\\site-packages (from kaggle->opendatasets) (2.2.0)\n",
      "Requirement already satisfied: bleach in f:\\git_projects\\kidney-disease-dl-project\\env\\lib\\site-packages (from kaggle->opendatasets) (6.1.0)\n",
      "Requirement already satisfied: webencodings in f:\\git_projects\\kidney-disease-dl-project\\env\\lib\\site-packages (from bleach->kaggle->opendatasets) (0.5.1)\n",
      "Collecting text-unidecode>=1.3 (from python-slugify->kaggle->opendatasets)\n",
      "  Downloading text_unidecode-1.3-py2.py3-none-any.whl (78 kB)\n",
      "     ---------------------------------------- 0.0/78.2 kB ? eta -:--:--\n",
      "     ------------------------------- -------- 61.4/78.2 kB 3.4 MB/s eta 0:00:01\n",
      "     ------------------------------- -------- 61.4/78.2 kB 3.4 MB/s eta 0:00:01\n",
      "     ------------------------------- -------- 61.4/78.2 kB 3.4 MB/s eta 0:00:01\n",
      "     ------------------------------- -------- 61.4/78.2 kB 3.4 MB/s eta 0:00:01\n",
      "     ---------------------------------- --- 71.7/78.2 kB 262.6 kB/s eta 0:00:01\n",
      "     -------------------------------------- 78.2/78.2 kB 241.7 kB/s eta 0:00:00\n",
      "Requirement already satisfied: charset-normalizer<4,>=2 in f:\\git_projects\\kidney-disease-dl-project\\env\\lib\\site-packages (from requests->kaggle->opendatasets) (3.3.2)\n",
      "Requirement already satisfied: idna<4,>=2.5 in f:\\git_projects\\kidney-disease-dl-project\\env\\lib\\site-packages (from requests->kaggle->opendatasets) (3.6)\n",
      "Downloading python_slugify-8.0.3-py2.py3-none-any.whl (10 kB)\n",
      "Building wheels for collected packages: kaggle\n",
      "  Building wheel for kaggle (setup.py): started\n",
      "  Building wheel for kaggle (setup.py): finished with status 'done'\n",
      "  Created wheel for kaggle: filename=kaggle-1.6.4-py3-none-any.whl size=111939 sha256=d417a6625681afa1bb37ea7fad4a462da43209cc478e5b90f12593c90d93c239\n",
      "  Stored in directory: c:\\users\\hamza\\appdata\\local\\pip\\cache\\wheels\\7f\\6a\\01\\32347da3f0b756a2fec1d6baf517b39b7d3c18bcfec9da58f9\n",
      "Successfully built kaggle\n",
      "Installing collected packages: text-unidecode, python-slugify, kaggle, opendatasets\n",
      "Successfully installed kaggle-1.6.4 opendatasets-0.1.22 python-slugify-8.0.3 text-unidecode-1.3\n"
     ]
    }
   ],
   "source": [
    "# Install library\n",
    "!pip3 install opendatasets"
   ]
  },
  {
   "cell_type": "code",
   "execution_count": 5,
   "metadata": {},
   "outputs": [],
   "source": [
    "# Import library\n",
    "import opendatasets as od"
   ]
  },
  {
   "cell_type": "code",
   "execution_count": 6,
   "metadata": {},
   "outputs": [
    {
     "name": "stdout",
     "output_type": "stream",
     "text": [
      "Please provide your Kaggle credentials to download this dataset. Learn more: http://bit.ly/kaggle-creds\n",
      "Your Kaggle username:Your Kaggle Key:Downloading kidney-ct-scan.zip to .\\kidney-ct-scan\n"
     ]
    },
    {
     "name": "stderr",
     "output_type": "stream",
     "text": [
      "100%|██████████| 1.52G/1.52G [31:56<00:00, 849kB/s]  \n"
     ]
    },
    {
     "name": "stdout",
     "output_type": "stream",
     "text": [
      "\n"
     ]
    }
   ],
   "source": [
    "url = 'https://www.kaggle.com/datasets/anima890/kidney-ct-scan'\n",
    "\n",
    "od.download(url, force= True)"
   ]
  },
  {
   "cell_type": "code",
   "execution_count": null,
   "metadata": {},
   "outputs": [],
   "source": []
  }
 ],
 "metadata": {
  "kernelspec": {
   "display_name": "env",
   "language": "python",
   "name": "python3"
  },
  "language_info": {
   "codemirror_mode": {
    "name": "ipython",
    "version": 3
   },
   "file_extension": ".py",
   "mimetype": "text/x-python",
   "name": "python",
   "nbconvert_exporter": "python",
   "pygments_lexer": "ipython3",
   "version": "3.8.10"
  }
 },
 "nbformat": 4,
 "nbformat_minor": 2
}
